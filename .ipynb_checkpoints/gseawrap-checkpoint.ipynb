{
 "cells": [
  {
   "cell_type": "code",
   "execution_count": 1,
   "metadata": {},
   "outputs": [
    {
     "ename": "SyntaxError",
     "evalue": "EOL while scanning string literal (<ipython-input-1-e535395e7d31>, line 25)",
     "output_type": "error",
     "traceback": [
      "\u001b[1;36m  File \u001b[1;32m\"<ipython-input-1-e535395e7d31>\"\u001b[1;36m, line \u001b[1;32m25\u001b[0m\n\u001b[1;33m    help='Gene ranking method to choose. \\n1. number of samples in each group is more than 3, choose \"Signal2Noise\".\\n\u001b[0m\n\u001b[1;37m                                                                                                                     ^\u001b[0m\n\u001b[1;31mSyntaxError\u001b[0m\u001b[1;31m:\u001b[0m EOL while scanning string literal\n"
     ]
    }
   ],
   "source": [
    "#!/usr/bin/env python\n",
    "\n",
    "# Script to run GSEA from command line to run on large dataset or for multiple comparison: \n",
    "# Author Yogesh Dhungana\n",
    "\n",
    "import glob\n",
    "import subprocess\n",
    "import os\n",
    "import sys\n",
    "import math\n",
    "import argparse\n",
    "from itertools import permutations\n",
    "from datetime import date\n",
    "def parse_arguments():\n",
    "    parser = argparse.ArgumentParser(prog='Wrapper for GSEA.', description='')\n",
    "    parser.add_argument('--gct',nargs=1,type=str , help='Gene expression matrix in .gct format.')\n",
    "    parser.add_argument('--cls', nargs=1, type=str, help='Path to class file in .cls format.')\n",
    "    parser.add_argument('--gmt', nargs=1, type=str, help='Path to geneset file in .gmt format.')\n",
    "    parser.add_argument('--chip', nargs=1, type=str, help='Path to annotation file in .chip format.')\n",
    "    parser.add_argument('--projectname', nargs=1, type=str, help='Prefix for project with absolute path.')\n",
    "    parser.add_argument('--nplots', nargs=1,default=50, type=int, help='Number of plots to generate.')\n",
    "    parser.add_argument('--nperms', nargs=1,default=1000, type=int, help='Number of permutations.')\n",
    "    parser.add_argument('--projectname', nargs=1, type=str, help='Prefix for project with absolute path.')\n",
    "    parser.add_argument('--metric', nargs=1, type=str,default='Signal2Noise',choices=['Signal2Noise','tTest', 'log2_Ratio_of_Classes'], \n",
    "                        help='Gene ranking method to choose. \\n1. number of samples in each group is more than 3, choose \"Signal2Noise\".\\n\n",
    "                        2. If number of samples in each group is less than 3, choose either \"tTest\" or \"log2_Ratio_of_Classes\"')\n",
    "    \n",
    "    parser.add_argument('--ispreranked',action='store_false', help='Analysis is preranked GSEA.')\n",
    "    parser.add_argument('--rnk',nargs=1,type=str,required=False, help='Gene expression matrix in .gct format.')\n",
    "\n",
    "    args = parser.parse_args()\n",
    "    \n",
    "    if not args.ispreranked and args.rnk==None: \n",
    "        raise ValueError(\"Missing .rnk file, please provide rnk file and rerun the program.\")\n",
    "        sys.exit()\n",
    "    \n",
    "    return args\n",
    "    "
   ]
  },
  {
   "cell_type": "code",
   "execution_count": 10,
   "metadata": {},
   "outputs": [],
   "source": [
    "from itertools import permutations\n",
    "def gsea_cls_parser(cls):\n",
    "    \"\"\"Extract class(phenotype) name from .cls file.\n",
    "\n",
    "    :param cls: the a class list instance or .cls file which is identical to GSEA input .\n",
    "    :return: phenotype name and a list of class vector.\n",
    "    \"\"\"\n",
    "    all_possible_comp = []\n",
    "    if isinstance(cls, list) :\n",
    "        classes = cls\n",
    "        sample_name= unique(classes)\n",
    "    elif isinstance(cls, str) :\n",
    "        with open(cls) as c:\n",
    "            file = c.readlines()\n",
    "        classes = file[2].strip('\\n').split(\" \")\n",
    "        sample_name = file[1].lstrip(\"# \").strip('\\n').split(\" \")\n",
    "    else:\n",
    "        raise Exception('Error parsing sample name!')\n",
    "        \n",
    "    perm = permutations(sample_name, 2)\n",
    "    for i in list(perm): all_possible_comp.append(i)\n",
    "    \n",
    "    return all_possible_comp"
   ]
  },
  {
   "cell_type": "code",
   "execution_count": 22,
   "metadata": {},
   "outputs": [
    {
     "name": "stdout",
     "output_type": "stream",
     "text": [
      "['#WT_1_2_versus_Mst1KO_1_2', '#WT_1_2_versus_Mst2KO_1_2', '#WT_1_2_versus_WT_3', '#WT_1_2_versus_Mst1KO_3', '#WT_1_2_versus_Mst2KO_3', '#WT_1_2_versus_dKOMst_1_2', '#WT_1_2_versus_dKOMst_3', '#Mst1KO_1_2_versus_WT_1_2', '#Mst1KO_1_2_versus_Mst2KO_1_2', '#Mst1KO_1_2_versus_WT_3', '#Mst1KO_1_2_versus_Mst1KO_3', '#Mst1KO_1_2_versus_Mst2KO_3', '#Mst1KO_1_2_versus_dKOMst_1_2', '#Mst1KO_1_2_versus_dKOMst_3', '#Mst2KO_1_2_versus_WT_1_2', '#Mst2KO_1_2_versus_Mst1KO_1_2', '#Mst2KO_1_2_versus_WT_3', '#Mst2KO_1_2_versus_Mst1KO_3', '#Mst2KO_1_2_versus_Mst2KO_3', '#Mst2KO_1_2_versus_dKOMst_1_2', '#Mst2KO_1_2_versus_dKOMst_3', '#WT_3_versus_WT_1_2', '#WT_3_versus_Mst1KO_1_2', '#WT_3_versus_Mst2KO_1_2', '#WT_3_versus_Mst1KO_3', '#WT_3_versus_Mst2KO_3', '#WT_3_versus_dKOMst_1_2', '#WT_3_versus_dKOMst_3', '#Mst1KO_3_versus_WT_1_2', '#Mst1KO_3_versus_Mst1KO_1_2', '#Mst1KO_3_versus_Mst2KO_1_2', '#Mst1KO_3_versus_WT_3', '#Mst1KO_3_versus_Mst2KO_3', '#Mst1KO_3_versus_dKOMst_1_2', '#Mst1KO_3_versus_dKOMst_3', '#Mst2KO_3_versus_WT_1_2', '#Mst2KO_3_versus_Mst1KO_1_2', '#Mst2KO_3_versus_Mst2KO_1_2', '#Mst2KO_3_versus_WT_3', '#Mst2KO_3_versus_Mst1KO_3', '#Mst2KO_3_versus_dKOMst_1_2', '#Mst2KO_3_versus_dKOMst_3', '#dKOMst_1_2_versus_WT_1_2', '#dKOMst_1_2_versus_Mst1KO_1_2', '#dKOMst_1_2_versus_Mst2KO_1_2', '#dKOMst_1_2_versus_WT_3', '#dKOMst_1_2_versus_Mst1KO_3', '#dKOMst_1_2_versus_Mst2KO_3', '#dKOMst_1_2_versus_dKOMst_3', '#dKOMst_3_versus_WT_1_2', '#dKOMst_3_versus_Mst1KO_1_2', '#dKOMst_3_versus_Mst2KO_1_2', '#dKOMst_3_versus_WT_3', '#dKOMst_3_versus_Mst1KO_3', '#dKOMst_3_versus_Mst2KO_3', '#dKOMst_3_versus_dKOMst_1_2']\n"
     ]
    },
    {
     "data": {
      "text/plain": [
       "56"
      ]
     },
     "execution_count": 22,
     "metadata": {},
     "output_type": "execute_result"
    }
   ],
   "source": [
    "grp = gsea_cls_parser(\"../data/Mst1_Mst2.cls\")\n",
    "#grp\n",
    "#len(grp)\n",
    "comp = []\n",
    "prefix = []\n",
    "for val in range(len(grp)):\n",
    "        comp.append(\"#\"+grp[val][0]+\"_versus_\"+grp[val][1])\n",
    "        prefix.append(grp[val][0]+\"_versus_\"+grp[val][1])\n",
    "        \n",
    "print (comp)\n",
    "len(comp)"
   ]
  },
  {
   "cell_type": "code",
   "execution_count": 3,
   "metadata": {},
   "outputs": [],
   "source": [
    "def run_shell_cmd(cmd):\n",
    "    p = subprocess.Popen(\n",
    "        ['/bin/bash', '-o', 'pipefail'],  # to catch error in pipe\n",
    "        stdin=subprocess.PIPE,\n",
    "        stdout=subprocess.PIPE,\n",
    "        stderr=subprocess.PIPE,\n",
    "        universal_newlines=True,\n",
    "        preexec_fn=os.setsid)  # to make a new process with a new PGID\n",
    "    pid = p.pid\n",
    "    pgid = os.getpgid(pid)\n",
    "    log.info('run_shell_cmd: PID={}, PGID={}, CMD={}'.format(pid, pgid, cmd))\n",
    "    stdout, stderr = p.communicate(cmd)\n",
    "    rc = p.returncode\n",
    "    err_str = 'PID={}, PGID={}, RC={}\\nSTDERR={}\\nSTDOUT={}'.format(\n",
    "        pid, pgid, rc, stderr.strip(), stdout.strip())\n",
    "    if rc:\n",
    "        # kill all child processes\n",
    "        try:\n",
    "            os.killpg(pgid, signal.SIGKILL)\n",
    "        except:\n",
    "            pass\n",
    "        finally:\n",
    "            raise Exception(err_str)\n",
    "    else:\n",
    "        log.info(err_str)\n",
    "    return stdout.strip('\\n')"
   ]
  },
  {
   "cell_type": "code",
   "execution_count": 4,
   "metadata": {},
   "outputs": [],
   "source": [
    "def run_gsea(expression, class_, geneset, annotation, analysisName ,metric,nplots, nperm):\n",
    "    \"\"\" run GSEA for microarray dataa. \n",
    "    \n",
    "    :parm expression: gene expression matrix in .gct format.\n",
    "    :parm class_: the class file in .cls format identical to GSEA input.\n",
    "    :geneset: geneset to run GSEA against supplied as .gmt file. \n",
    "    :annotation: chip platform used to perfrom microarray in .chip format.\n",
    "    :analysisName: Name of the analysis directory. \n",
    "    :metric: ranking method for gene it can be either signal2noise, tTest, log2FC (look up --help option)\n",
    "    :nplots: number of plots to generate for top pathways by default 20 top pathways will be used to generate the plot.\n",
    "    :nperm: number of permutations to perfrom by default 1000 permutations will be done. \n",
    "    \"\"\"\n",
    "    comparisonlist = gsea_cls_parser(class_)\n",
    "    #print comparisonlist\n",
    "    today = date.today()\n",
    "    d1 = today.strftime(\"%Y_%m_%d\")\n",
    "    result_dir = analysisName+'_'+d1 \n",
    "    comp = []\n",
    "    prefix = []\n",
    "    for i in range(len(comparisonlist)):\n",
    "        comp.append(\"#\"+comparisonlist[i][0]+\"_versus_\"+comparisonlist[i][1])\n",
    "        prefix.append(comparisonlist[i][0]+\"_versus_\"+comparisonlist[i][1])\n",
    "    for val in range(len(comp)):\n",
    "        cmd1 = \"/home/ydhungan/GSEA_4.0.3/gsea-cli.sh GSEA -res {} -cls {} -gmx {} -chip {} -collapse true -mode Max_probe -norm meandiv -nperm {} \"\n",
    "        cmd1 += \"-permute gene_set -rnd_type no_balance -scoring_scheme weighted -rpt_label {} \"\n",
    "        cmd1 += \"-metric {} -sort real -order descending -include_only_symbols true -make_sets true \"\n",
    "        cmd1 += \"-median false -num 100 -plot_top_x {} -rnd_seed timestamp -save_rnd_lists false \"\n",
    "        cmd1 += \"-set_max 500 -set_min 15 -zip_report false -out {}\"\n",
    "        cmd1 = cmd1.format(expression, class_+comp[val], geneset, annotation, nperm, prefix[val], metric, nplots, result_dir)\n",
    "        run_shell_cmd(cmd1)\n",
    "    "
   ]
  },
  {
   "cell_type": "code",
   "execution_count": 5,
   "metadata": {},
   "outputs": [],
   "source": [
    "#run_gsea(\"../data/Mst1_Mst2.gct\", \"../data/Mst1_Mst2.cls\", \"../gmt/h.all.v6.0.symbols.gmt\", \n",
    "#         \"../data/Mst1_Mst2.chip\", \"../data/Mst1_Mst2_C7\",\"Signal2Noise\", nplots, nperm)"
   ]
  },
  {
   "cell_type": "code",
   "execution_count": 6,
   "metadata": {},
   "outputs": [],
   "source": [
    "def run_prerank_gsea(ranklist, geneset, analysisName, nplots, nperm):\n",
    "    \"\"\" run GSEA for preranked file. \n",
    "    \n",
    "    :parm ranklist: gene expression ranking in .rnk format.\n",
    "    :geneset: geneset to run GSEA against supplied as .gmt file. \n",
    "    :analysisName: Name of the analysis directory with absolute path. \n",
    "    :nplots: number of plots to generate for top pathways by default 20 top pathways will be used to generate the plot.\n",
    "    :nperm: number of permutations to perfrom by default 1000 permutations will be done. \n",
    "    \"\"\"\n",
    "    today = date.today()\n",
    "    d1 = today.strftime(\"%Y_%m_%d\")\n",
    "    result_dir = analysisName+'_'+d1 \n",
    "    \n",
    "    cmd1 = \"/home/ydhungan/GSEA_4.0.3/gsea-cli.sh GSEAPreranked -rnk {} -gmx {} -nperm {} -scoring_scheme weighted \" \n",
    "    cmd1 += \"-set_max 500 -set_min 15 -plot_top_x {} -rnd_seed timestamp -save_rnd_lists false -zip_report false \"\n",
    "    cmd1 += \"-out {} -norm meandiv \"\n",
    "    \n",
    "    cmd1 = cmd1.format(ranklist, geneset, nperm, nplots, result_dir)\n",
    "    \n",
    "    run_shell_cmd(cmd1)\n",
    "    "
   ]
  },
  {
   "cell_type": "code",
   "execution_count": 7,
   "metadata": {},
   "outputs": [
    {
     "ename": "NameError",
     "evalue": "global name 'parse_arguments' is not defined",
     "output_type": "error",
     "traceback": [
      "\u001b[1;31m---------------------------------------------------------------------------\u001b[0m",
      "\u001b[1;31mNameError\u001b[0m                                 Traceback (most recent call last)",
      "\u001b[1;32m<ipython-input-7-7f878d9e8343>\u001b[0m in \u001b[0;36m<module>\u001b[1;34m()\u001b[0m\n\u001b[0;32m     11\u001b[0m \u001b[1;33m\u001b[0m\u001b[0m\n\u001b[0;32m     12\u001b[0m \u001b[1;32mif\u001b[0m \u001b[0m__name__\u001b[0m \u001b[1;33m==\u001b[0m \u001b[1;34m'__main__'\u001b[0m\u001b[1;33m:\u001b[0m\u001b[1;33m\u001b[0m\u001b[0m\n\u001b[1;32m---> 13\u001b[1;33m     \u001b[0mmain\u001b[0m\u001b[1;33m(\u001b[0m\u001b[1;33m)\u001b[0m\u001b[1;33m\u001b[0m\u001b[0m\n\u001b[0m",
      "\u001b[1;32m<ipython-input-7-7f878d9e8343>\u001b[0m in \u001b[0;36mmain\u001b[1;34m()\u001b[0m\n\u001b[0;32m      1\u001b[0m \u001b[1;32mdef\u001b[0m \u001b[0mmain\u001b[0m\u001b[1;33m(\u001b[0m\u001b[1;33m)\u001b[0m\u001b[1;33m:\u001b[0m\u001b[1;33m\u001b[0m\u001b[0m\n\u001b[1;32m----> 2\u001b[1;33m     \u001b[0margs\u001b[0m \u001b[1;33m=\u001b[0m \u001b[0mparse_arguments\u001b[0m\u001b[1;33m(\u001b[0m\u001b[1;33m)\u001b[0m\u001b[1;33m\u001b[0m\u001b[0m\n\u001b[0m\u001b[0;32m      3\u001b[0m \u001b[1;33m\u001b[0m\u001b[0m\n\u001b[0;32m      4\u001b[0m \u001b[1;33m\u001b[0m\u001b[0m\n\u001b[0;32m      5\u001b[0m     \u001b[1;32mif\u001b[0m \u001b[0margs\u001b[0m\u001b[1;33m.\u001b[0m\u001b[0mispreranked\u001b[0m\u001b[1;33m:\u001b[0m\u001b[1;33m\u001b[0m\u001b[0m\n",
      "\u001b[1;31mNameError\u001b[0m: global name 'parse_arguments' is not defined"
     ]
    }
   ],
   "source": [
    "def main():\n",
    "    args = parse_arguments()\n",
    "    \n",
    "        \n",
    "    if args.ispreranked:\n",
    "        run_gsea(args.gct, args.cls, args.gmt, args.chip, args.projectname, args.metric, args.nplots, args.nperm)\n",
    "        \n",
    "    else:\n",
    "        run_prerank_gsea(args.rnk, args.gmt, args.project, args.nplots, args.nperm)\n",
    "             \n",
    "\n",
    "if __name__ == '__main__':\n",
    "    main()"
   ]
  },
  {
   "cell_type": "code",
   "execution_count": null,
   "metadata": {},
   "outputs": [],
   "source": []
  }
 ],
 "metadata": {
  "kernelspec": {
   "display_name": "Python 2",
   "language": "python",
   "name": "python2"
  },
  "language_info": {
   "codemirror_mode": {
    "name": "ipython",
    "version": 2
   },
   "file_extension": ".py",
   "mimetype": "text/x-python",
   "name": "python",
   "nbconvert_exporter": "python",
   "pygments_lexer": "ipython2",
   "version": "2.7.16"
  }
 },
 "nbformat": 4,
 "nbformat_minor": 2
}
